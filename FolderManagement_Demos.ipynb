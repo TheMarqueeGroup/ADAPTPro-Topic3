{
 "cells": [
  {
   "cell_type": "markdown",
   "id": "0d7266aa-588a-4c25-b4c0-9b6d7397ee01",
   "metadata": {},
   "source": [
    "# ADAPT Pro - Topic 3 - Automation, Visualization and Best Practices"
   ]
  },
  {
   "cell_type": "markdown",
   "id": "16c47126-97e2-4259-80a6-5f7444e781cd",
   "metadata": {},
   "source": [
    "Note before running the codes below run the Getting Started file located here:\n",
    "`/jupyter/notebooks/lob/core/ADAPT`\n",
    "\n",
    "Step-by-step instruction can be found at https://go/adapt-jupyter"
   ]
  },
  {
   "cell_type": "markdown",
   "id": "9499f0ef-65f0-43fa-91d4-12bf26201aa1",
   "metadata": {},
   "source": [
    "# File and Folder Management\n",
    "- Python can be used for automating tedious and repetitive tasks such as creating, copying, and deleting folders and files\n",
    "- There are three main packages used for file/folder manipulation that are preinstalled with Python:\n",
    "    - os: https://docs.python.org/3/library/os.html\n",
    "    - pathlib: https://docs.python.org/3/library/pathlib.html\n",
    "    - shutil: https://docs.python.org/3/library/shutil.html\n",
    "\n",
    "Functionality\n",
    "- Access and control to operating system files and folders\n",
    "- Opening and closing files\n",
    "- Copying, renaming, moving, and deleting files and folders\n",
    "\n",
    "Primary Uses\n",
    "- Organizing hundreds of files and folders in an automated way\n",
    "- Grabbing a list of all file names of one file type in a folder (e.g. all CSVs or PDFs)\n",
    "- Cleaning up the names of multiple files"
   ]
  },
  {
   "cell_type": "markdown",
   "id": "dc028602-aa7a-4364-a581-f2be3de3b505",
   "metadata": {},
   "source": [
    "## Import Packages"
   ]
  },
  {
   "cell_type": "code",
   "execution_count": 1,
   "id": "ee93b3fe-63bb-4d95-a623-489d54977c31",
   "metadata": {
    "tags": []
   },
   "outputs": [],
   "source": [
    "import os\n",
    "import pathlib\n",
    "import shutil"
   ]
  },
  {
   "cell_type": "markdown",
   "id": "66a17f5b-2b1d-4642-a587-456a7d5043e3",
   "metadata": {},
   "source": [
    "## Creating and Deleting Folders\n",
    "### OS\n",
    "- `os.makedirs` to create folders (\"make directories\")\n",
    "    - note this will cause an error if folder already exists\n",
    "    - usually combine with a quick if statement: `if not os.path.exists(newfolders):`\n",
    "- `os.rmdir` to delete folders (\"remove directories\")"
   ]
  },
  {
   "cell_type": "code",
   "execution_count": 5,
   "id": "baae21dc-ba1a-436e-b929-bd0dac2341f2",
   "metadata": {
    "tags": []
   },
   "outputs": [],
   "source": [
    "#Checking if a folder/subfolder exists\n",
    "os.path.exists('ADAPT2021')"
   ]
  },
  {
   "cell_type": "code",
   "execution_count": 29,
   "id": "97b02263-8327-41cc-aaa1-bbff1c9285a5",
   "metadata": {
    "tags": []
   },
   "outputs": [],
   "source": [
    "#Creating and deleting folders\n",
    "if not os.path.exists('tickers/NFLX'):\n",
    "    os.makedirs('tickers/NFLX')"
   ]
  },
  {
   "cell_type": "code",
   "execution_count": 30,
   "id": "adca013b-6e68-4cd4-90f3-dfcc187e203c",
   "metadata": {
    "tags": []
   },
   "outputs": [],
   "source": [
    "os.rmdir('tickers/NFLX') #only deletes NFLX subfolder\n",
    "# os.removedirs('tickers/NFLX') #removes both parent and subfolder"
   ]
  },
  {
   "cell_type": "markdown",
   "id": "1d11d67f-7d49-477f-b83b-cfe094559278",
   "metadata": {},
   "source": [
    "### Pathlib\n",
    "- mkdir and rmdir methods are added at the end of `.Path(folders)`\n",
    "    - can add exist_ok=True to avoid having to use an if statement like os package\n",
    "    - parents=True will also create any \"parent\"/main folders if they don't already exist"
   ]
  },
  {
   "cell_type": "code",
   "execution_count": 23,
   "id": "13cdb3d6-238a-4892-bf1f-680ed017191f",
   "metadata": {
    "tags": []
   },
   "outputs": [],
   "source": [
    "pathlib.Path('tickers/AAPL').mkdir(parents=True, exist_ok=True) #create folders"
   ]
  },
  {
   "cell_type": "code",
   "execution_count": 25,
   "id": "ef513d0f-e8f4-4f2b-bf62-8b7f255d4f97",
   "metadata": {
    "tags": []
   },
   "outputs": [],
   "source": [
    "pathlib.Path('tickers/AAPL').rmdir() #remove folders"
   ]
  },
  {
   "cell_type": "markdown",
   "id": "613dd0b3-c882-4be3-9ad7-2a0d542384fc",
   "metadata": {},
   "source": [
    "### Shutil\n",
    "- if you want to remove all subfolders can use `shutil` package with `rmtree` function\n",
    "- os.removedirs will give an error if trying to delete a root folder with content still inside\n",
    "- shutil does not give an error but also no warning, so be very careful before running!"
   ]
  },
  {
   "cell_type": "code",
   "execution_count": 32,
   "id": "63731b0f-d2ca-4fa6-ae0c-f24dbc411ebf",
   "metadata": {
    "tags": []
   },
   "outputs": [],
   "source": [
    "pathlib.Path('tickers/AAPL').mkdir(parents=True, exist_ok=True) #create folders\n",
    "pathlib.Path('tickers/NFLX').mkdir(parents=True, exist_ok=True) #create folders\n",
    "pathlib.Path('tickers/TSLA').mkdir(parents=True, exist_ok=True) #create folders"
   ]
  },
  {
   "cell_type": "code",
   "execution_count": 33,
   "id": "d10cfd81-2aa4-491b-8abd-120345b9b1fd",
   "metadata": {
    "tags": []
   },
   "outputs": [],
   "source": [
    "os.removedirs('tickers/NFLX') #only removed NFLX because there were other subfolders in tickers"
   ]
  },
  {
   "cell_type": "code",
   "execution_count": 35,
   "id": "6943c92b-c4fd-4551-91d9-86733c50a1f3",
   "metadata": {
    "tags": []
   },
   "outputs": [],
   "source": [
    "#os.removedirs('tickers/') #will give error \"directory not empty\""
   ]
  },
  {
   "cell_type": "code",
   "execution_count": 36,
   "id": "54d6e18e-4889-4b9e-8b5b-2c4d2426c70f",
   "metadata": {
    "tags": []
   },
   "outputs": [],
   "source": [
    "shutil.rmtree('tickers/') #this works"
   ]
  },
  {
   "cell_type": "markdown",
   "id": "5dc1a5a2-2f65-4f10-ba9f-d5c364a423e7",
   "metadata": {},
   "source": [
    "## Finding Files\n",
    "- sometimes useful to get a list of all of one type of file in a folder (e.g. all pdfs or all csv files)\n",
    "- `os.listdir(folder)` will provide a list of all files\n",
    "- can then use `.endswith(filetype)` to find a specific type"
   ]
  },
  {
   "cell_type": "code",
   "execution_count": 39,
   "id": "9d649832-40f3-4dad-826b-82ec146e3394",
   "metadata": {
    "tags": []
   },
   "outputs": [],
   "source": [
    "files = []\n",
    "for file in os.listdir('ADAPT2021/StockData'):\n",
    "    #print(file)\n",
    "    if file.endswith('.csv'):\n",
    "        files.append(file)\n",
    "# files"
   ]
  },
  {
   "cell_type": "code",
   "execution_count": 43,
   "id": "8cb1d38c-2108-43bc-973e-1e27b529a726",
   "metadata": {
    "tags": []
   },
   "outputs": [],
   "source": [
    "#List Comprehension\n",
    "files = [file for file in os.listdir('ADAPT2021/StockData') if file.endswith('.csv')]\n",
    "# files"
   ]
  },
  {
   "cell_type": "markdown",
   "id": "e72e76e8-c415-4c2b-8e4f-3fa09ed442c8",
   "metadata": {},
   "source": [
    "## Copying Files\n",
    "- can use `shutil.copy(sourcePath, copyPath)`"
   ]
  },
  {
   "cell_type": "code",
   "execution_count": 44,
   "id": "922f40a7-7931-48ca-ac9c-b3ee5d4be140",
   "metadata": {
    "tags": []
   },
   "outputs": [],
   "source": [
    "os.makedirs('tickers/')"
   ]
  },
  {
   "cell_type": "code",
   "execution_count": 45,
   "id": "b3c733ed-5c0e-40e7-b1cd-f939c9fa3505",
   "metadata": {
    "tags": []
   },
   "outputs": [],
   "source": [
    "for file in files:\n",
    "    sourcePath = 'ADAPT2021/StockData/' + file\n",
    "    destination = 'tickers/'\n",
    "    shutil.copy(sourcePath, destination)"
   ]
  },
  {
   "cell_type": "code",
   "execution_count": 46,
   "id": "7fa4655f-872c-43fe-869f-c699f45a9e6f",
   "metadata": {
    "tags": []
   },
   "outputs": [],
   "source": [
    "shutil.rmtree('tickers/') #remove all the copied files"
   ]
  },
  {
   "cell_type": "markdown",
   "id": "985d3a21-d8a1-4c7d-8827-7103499baa14",
   "metadata": {},
   "source": [
    "## Practice Exercise\n",
    "In this exercise you will create a series of new folders and Excel files on the fly by making modifications to the raw data ticker files in the `ADAPT2021/StockData` folder.\n",
    "1. Create a list of all the csv files in the StockData folder.\n",
    "2. For each csv file:\n",
    "- import the ticker data as a DataFrame, add a 'Ticker' column and calculate the daily returns\n",
    "- save the newly modified DataFrame as a csv with the name \"XYZTicker_returns.csv\" in a subfolder with the same name as the ticker in a new central \"tickers\" folder\n",
    "    - e.g. save a new modified 'AAPL_returns.csv' in the path 'tickers/AAPL/'\n",
    "\n",
    "Challenge: Also create monthly DataFrames of each ticker data file and save these as ticker_monthly.csv in the respective folders (e.g. AAPL_monthly.csv should be saved in the same AAPL folder).\n",
    "\n",
    "Hint: Use the following codes as a template for converting daily data to monthly\n",
    "```\n",
    "rules = {'Open':'first', 'Close':'last', 'Volume':'sum'}\n",
    "monthlyDF = df.resample('M').agg(rules)\n",
    "```\n",
    "\n",
    "**Solution will be provided in tomorow's session**"
   ]
  }
 ],
 "metadata": {
  "header": "# Id:          $Id: FolderManagement_Demos.ipynb,v 1.1 2023/11/08 22:31:19 bogdan.tudose Exp $\n# Copyright:   2023 J.P. Morgan Chase & Co. Incorporated.  All rights reserved.\n# Type:        research\n# Group:       AthenaAnalystTraining\n# Flags:       py3\n# Description: Jupyter notebook created by bogdan.tudose\n\n",
  "kernelspec": {
   "display_name": "Athena 3.7",
   "language": "python",
   "name": "athena_py3"
  },
  "language_info": {
   "codemirror_mode": {
    "name": "ipython",
    "version": 3
   },
   "file_extension": ".py",
   "mimetype": "text/x-python",
   "name": "python",
   "nbconvert_exporter": "python",
   "pygments_lexer": "ipython3",
   "version": "3.7.9"
  }
 },
 "nbformat": 4,
 "nbformat_minor": 5
}
