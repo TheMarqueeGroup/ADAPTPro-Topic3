{
 "cells": [
  {
   "cell_type": "markdown",
   "id": "fb90aebd-226e-4c98-9a2d-600ed8c3cc6d",
   "metadata": {
    "jp-MarkdownHeadingCollapsed": true,
    "tags": []
   },
   "source": [
    "# ADAPT Pro - Topic 3 - Automation, Visualization and Best Practices"
   ]
  },
  {
   "cell_type": "markdown",
   "id": "b79cb8d7-c2fa-49de-8efa-762fa48ca1ac",
   "metadata": {},
   "source": [
    "# NLP Demos\n",
    "\n",
    "**Useful links**\n",
    "- stack post on using tabula package: https://jpmc.stackenterprise.co/questions/56013\n",
    "- tabula package documentaiton: https://tabula-py.readthedocs.io/en/latest/"
   ]
  },
  {
   "cell_type": "code",
   "execution_count": 3,
   "id": "d3d292ef-14c4-4770-86ba-1e1388b4e6ba",
   "metadata": {
    "tags": []
   },
   "outputs": [],
   "source": [
    "import requests\n",
    "import re\n",
    "import pandas as pd\n",
    "from bs4 import BeautifulSoup\n",
    "\n",
    "#NLP Packages\n",
    "import spacy\n",
    "import en_core_web_sm"
   ]
  },
  {
   "cell_type": "markdown",
   "id": "5b8ce1ad-4853-4329-8a7d-09de3ef8d916",
   "metadata": {
    "tags": []
   },
   "source": [
    "## Grab some text\n"
   ]
  },
  {
   "cell_type": "code",
   "execution_count": 4,
   "id": "394ec6bc-06fd-48e0-8aed-33ee0b5edb4d",
   "metadata": {},
   "outputs": [],
   "source": [
    "proxies = { 'http' : 'http://proxy.jpmchase.net:8443/',\n",
    "           'https' : 'http://proxy.jpmchase.net:8443/' }"
   ]
  },
  {
   "cell_type": "code",
   "execution_count": 5,
   "id": "6fe427bd-58d2-4ae3-a149-ad8537c83e08",
   "metadata": {},
   "outputs": [],
   "source": [
    "url = 'https://www.equedia.com/comp-disclosure/'\n",
    "response = requests.get(url, proxies=proxies)"
   ]
  },
  {
   "cell_type": "code",
   "execution_count": 7,
   "id": "021d76a5-9d9c-4a53-9bb6-5e5a477609b8",
   "metadata": {
    "tags": []
   },
   "outputs": [],
   "source": [
    "soup = BeautifulSoup(response.text, 'html5lib')\n",
    "paragraphs = [p.text for p in soup.find_all('p')]"
   ]
  },
  {
   "cell_type": "code",
   "execution_count": 13,
   "id": "80ebde59-9479-46b3-8ba7-1b527c17a052",
   "metadata": {
    "tags": []
   },
   "outputs": [],
   "source": [
    "paragraphs[23]"
   ]
  },
  {
   "cell_type": "markdown",
   "id": "670cc224-9989-4839-83ef-1edbf0bf036a",
   "metadata": {},
   "source": [
    "## NLP Processing\n",
    "- the nlp() function from SpaCy will recognize any entities in the paragraphs\n",
    "- for a list of entity types see SpaCy documentation\n",
    "\n",
    "In the example below, SpaCy found the following entities:\n",
    "- Cardinal - words related to numerical values\n",
    "- Ordinal - numerical words related to order (e.g. first, second, etc.)\n",
    "- Date - absolute or relative dates (e.g. March 1, or second quarter)\n",
    "- GPE - countries, cities, etc.\n",
    "- Money - words related to monetary values\n",
    "- Org - company names"
   ]
  },
  {
   "cell_type": "code",
   "execution_count": 14,
   "id": "587271f5-5224-423a-a017-43ac5d5dca40",
   "metadata": {
    "tags": []
   },
   "outputs": [],
   "source": [
    "nlp = en_core_web_sm.load()"
   ]
  },
  {
   "cell_type": "code",
   "execution_count": 17,
   "id": "9f0880ed-2f61-4db9-89d5-2d30afe09058",
   "metadata": {
    "tags": []
   },
   "outputs": [],
   "source": [
    "nlpData = nlp(paragraphs[23])\n",
    "labels = [x.label_ for x in nlpData.ents]"
   ]
  },
  {
   "cell_type": "code",
   "execution_count": 18,
   "id": "b9a32f3e-8387-4b74-b9e3-ca6b70fe4b05",
   "metadata": {
    "tags": []
   },
   "outputs": [],
   "source": [
    "Counter(labels)"
   ]
  },
  {
   "cell_type": "code",
   "execution_count": 20,
   "id": "7824a6b2-8e7d-4dfa-80f3-c91e02839d36",
   "metadata": {
    "tags": []
   },
   "outputs": [],
   "source": [
    "ent_type = 'DATE'\n",
    "items = [x.text for x in nlpData.ents if x.label_ == ent_type]\n",
    "items"
   ]
  },
  {
   "cell_type": "code",
   "execution_count": 22,
   "id": "fbfefe05-6cda-487f-82b3-5af44f74df75",
   "metadata": {
    "tags": []
   },
   "outputs": [],
   "source": [
    "ent_type = 'MONEY'\n",
    "items = [x.text for x in nlpData.ents if x.label_ == ent_type]\n",
    "items"
   ]
  },
  {
   "cell_type": "code",
   "execution_count": 23,
   "id": "43025929-489d-4e91-b315-94aeb4fec5f2",
   "metadata": {
    "tags": []
   },
   "outputs": [],
   "source": [
    "ent_type = 'ORG'\n",
    "items = [x.text for x in nlpData.ents if x.label_ == ent_type]\n",
    "items"
   ]
  },
  {
   "cell_type": "code",
   "execution_count": 24,
   "id": "c9d634f8-b2bd-451a-884c-60d1630ec713",
   "metadata": {
    "tags": []
   },
   "outputs": [],
   "source": [
    "#Code modified to print out all results by entity\n",
    "keysList = Counter(labels).keys()\n",
    "results = {}\n",
    "for key in keysList:\n",
    "    results[key] = [x.text for x in nlpData.ents if x.label_ == key]\n",
    "results"
   ]
  },
  {
   "cell_type": "markdown",
   "id": "10b58e62-ce6c-448a-a26d-d0087970fe6e",
   "metadata": {},
   "source": [
    "## Extracting parts of sentence\n",
    "Another way to categorize words using NLP is by part of sentence, e.g. nouns or verbs."
   ]
  },
  {
   "cell_type": "code",
   "execution_count": 26,
   "id": "ac039a6f-0150-4a09-8db7-f07df1284ac4",
   "metadata": {
    "tags": []
   },
   "outputs": [],
   "source": [
    "print(\"Noun phrases:\", [chunk.text for chunk in nlpData.noun_chunks])"
   ]
  },
  {
   "cell_type": "code",
   "execution_count": 27,
   "id": "61a7fbc3-b506-4a4f-919e-e9380e06f49f",
   "metadata": {
    "tags": []
   },
   "outputs": [],
   "source": [
    "print(\"Verbs:\", [token.lemma_ for token in nlpData if token.pos_ == \"VERB\"])"
   ]
  }
 ],
 "metadata": {
  "header": "# Id:          $Id: NLP_Demos.ipynb,v 1.1 2023/11/08 23:15:03 bogdan.tudose Exp $\n# Copyright:   2023 J.P. Morgan Chase & Co. Incorporated.  All rights reserved.\n# Type:        research\n# Group:       AthenaAnalystTraining\n# Flags:       py3\n# Description: Jupyter notebook created by bogdan.tudose\n\n",
  "kernelspec": {
   "display_name": "Athena 3.7",
   "language": "python",
   "name": "athena_py3"
  },
  "language_info": {
   "codemirror_mode": {
    "name": "ipython",
    "version": 3
   },
   "file_extension": ".py",
   "mimetype": "text/x-python",
   "name": "python",
   "nbconvert_exporter": "python",
   "pygments_lexer": "ipython3",
   "version": "3.7.9"
  }
 },
 "nbformat": 4,
 "nbformat_minor": 5
}
