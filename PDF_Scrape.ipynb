{
 "cells": [
  {
   "cell_type": "markdown",
   "id": "362f88e5-a8cc-4e0f-851b-58d16d550121",
   "metadata": {},
   "source": [
    "# ADAPT Pro - Topic 3 - Automation, Visualization and Best Practices"
   ]
  },
  {
   "cell_type": "markdown",
   "id": "577c502f-dc11-4bf9-a94a-265c6b3c6d70",
   "metadata": {},
   "source": [
    "# Importing Data from PDF Files\n",
    "\n",
    "**Useful links**\n",
    "- stack post on using tabula package: https://jpmc.stackenterprise.co/questions/56013\n",
    "- tabula package documentaiton: https://tabula-py.readthedocs.io/en/latest/"
   ]
  },
  {
   "cell_type": "code",
   "execution_count": 24,
   "id": "b1c58ba4-18a3-45ac-ad38-8e6188d7f540",
   "metadata": {
    "tags": []
   },
   "outputs": [],
   "source": [
    "import os\n",
    "import tabula as tb\n",
    "from tabula import read_pdf"
   ]
  },
  {
   "cell_type": "code",
   "execution_count": 25,
   "id": "7ea491f4-862a-44f5-92ee-e8018c96d1f4",
   "metadata": {
    "tags": []
   },
   "outputs": [],
   "source": [
    "tb.__version__"
   ]
  },
  {
   "cell_type": "markdown",
   "id": "4564f4cb-d1c4-45d8-8c3b-0f31ceb228be",
   "metadata": {},
   "source": [
    "https://jpmc.stackenterprise.co/questions/56013"
   ]
  },
  {
   "cell_type": "code",
   "execution_count": 2,
   "id": "dc371b5e-d6d9-4072-8585-6ef0b91b3cfb",
   "metadata": {
    "tags": []
   },
   "outputs": [],
   "source": [
    "#Code to ensure Java is enabled for Tabula\n",
    "def get_java_bin_path(version):\n",
    "    from pathlib import Path\n",
    "    import version_prod\n",
    "    p = Path(f\"/apps/asg/packages/jdkpy27-{version_prod.versions['athena']['prod']['jdk']}/g493_linux64/jdk{version}/bin\")\n",
    "    if not p.exists():\n",
    "        raise ValueError('{p} not found')\n",
    "    return p\n",
    "\n",
    "\n",
    "os.environ['PATH'] = f\"{get_java_bin_path('1.8.0_45')}:{os.environ['PATH']}\""
   ]
  },
  {
   "cell_type": "markdown",
   "id": "b9e6eb0b-2b0c-42db-9294-f85db5f2f698",
   "metadata": {},
   "source": [
    "## Simple Example - PDF File on Athena"
   ]
  },
  {
   "cell_type": "code",
   "execution_count": 99,
   "id": "293bcd90-790f-4f7c-9b2f-6613f73297d0",
   "metadata": {
    "tags": []
   },
   "outputs": [],
   "source": [
    "#Need to upload a smaple pdf file before running code below\n",
    "#df = read_pdf(\"report.pdf\", pages='2')\n",
    "#df.head()"
   ]
  },
  {
   "cell_type": "markdown",
   "id": "0c856abf-1bbc-4bbb-aee5-2e95e5eb3d8c",
   "metadata": {},
   "source": [
    "## Advanced Example - PDF File on Web"
   ]
  },
  {
   "cell_type": "markdown",
   "id": "7cd109f2-fe01-4116-be73-738e72763421",
   "metadata": {},
   "source": [
    "On J.P. Morgan device need to use proxy server to connect to external sites\n",
    "\n",
    "Steps:\n",
    "1. create a dictionary with JPM proxies (can copy from below)\n",
    "2. connect to the website where pdf is hosted using `response = requests.get(url, proxies)` and provide dictionary created to `proxies` argument\n",
    "3. save the response from website with `response.content`\n",
    "4. use the `io` packages and `io.BytesIO` to convert the raw content response as input to the tabula read_pdf() formula:\n",
    "```\n",
    "raw_pdf = response.content\n",
    "df = read_pdf(io.BytesIO(raw_pdf), pages='2')\n",
    "```\n",
    "\n",
    "If scraping a pdf from a website at home, you can skips steps above and provide url to pdf directly to the read_pdf formula."
   ]
  },
  {
   "cell_type": "code",
   "execution_count": 27,
   "id": "4aeee17e-7ead-4920-a45c-d42bfd36d291",
   "metadata": {
    "tags": []
   },
   "outputs": [],
   "source": [
    "#Step 1 - Import packages and set up dictionary for proxies\n",
    "import io\n",
    "import requests\n",
    "from tabula import read_pdf\n",
    "proxies = { 'http' : 'http://proxy.jpmchase.net:8443/',\n",
    "           'https' : 'http://proxy.jpmchase.net:8443/' }"
   ]
  },
  {
   "cell_type": "code",
   "execution_count": 28,
   "id": "d0788c2d-a543-4c01-a3de-ea1d2261033b",
   "metadata": {
    "tags": []
   },
   "outputs": [],
   "source": [
    "#Step 2 - Connect to website\n",
    "url = 'https://knowthefactsmmj.com/wp-content/uploads/ommu_updates/2023/042123-OMMU-Update.pdf'\n",
    "response = requests.get(url, proxies=proxies)"
   ]
  },
  {
   "cell_type": "code",
   "execution_count": 29,
   "id": "caccf84d-c165-4865-ade4-e07f1945880b",
   "metadata": {
    "tags": []
   },
   "outputs": [],
   "source": [
    "#Step 3 - Save response from website\n",
    "raw_pdf = response.content\n",
    "#response.content"
   ]
  },
  {
   "cell_type": "code",
   "execution_count": 30,
   "id": "65864ed6-63e0-40bf-8ba4-37ff34e8c2ab",
   "metadata": {
    "tags": []
   },
   "outputs": [],
   "source": [
    "#Step 4 - Convert raw content to table with tabula read_pdf and io package\n",
    "df = read_pdf(io.BytesIO(raw_pdf), pages='2')\n",
    "df.head()"
   ]
  },
  {
   "cell_type": "markdown",
   "id": "da857727-dfb4-4cc4-aed6-9f97038ef790",
   "metadata": {},
   "source": [
    "## Advanced Example - PDF File on Web - Multiple Pages\n",
    "- if pdf has multiple tables, the output of `read_pdf` is a list of tables instead of just one DataFrame\n",
    "- can check how many tables were extracted with len() and can also index the table to extract (e.g. `dfs[0]` for the first table)"
   ]
  },
  {
   "cell_type": "code",
   "execution_count": 19,
   "id": "090e3776-6030-4df5-b61a-9cc7899e9c05",
   "metadata": {
    "tags": []
   },
   "outputs": [],
   "source": [
    "url = 'https://members.rebgv.org/news/REBGV-Stats-Pkg-Mar-2023.pdf'\n",
    "response = requests.get(url, proxies=proxies)\n",
    "raw_pdf = response.content\n",
    "dfs = read_pdf(io.BytesIO(raw_pdf), pages=3, multiple_tables=True)"
   ]
  },
  {
   "cell_type": "code",
   "execution_count": 20,
   "id": "cbc06d21-0fe0-4b9e-b5a4-a200bf9a99c0",
   "metadata": {
    "tags": []
   },
   "outputs": [],
   "source": [
    "len(dfs)"
   ]
  },
  {
   "cell_type": "code",
   "execution_count": 21,
   "id": "e06016d1-5029-481a-aa8b-2cbcaa517a7a",
   "metadata": {
    "tags": []
   },
   "outputs": [],
   "source": [
    "dfs[0].to_excel('Vancouver housing.xlsx')"
   ]
  },
  {
   "cell_type": "code",
   "execution_count": 23,
   "id": "17113653-f18e-471c-91d6-0f58c21acd7f",
   "metadata": {
    "tags": []
   },
   "outputs": [],
   "source": [
    "dfs[0].head(10)"
   ]
  },
  {
   "cell_type": "code",
   "execution_count": null,
   "id": "c81a3753-240f-47dd-9fef-b3b992219c27",
   "metadata": {},
   "outputs": [],
   "source": []
  },
  {
   "cell_type": "markdown",
   "id": "2bdb776e-7e30-4813-a40c-bade675ae937",
   "metadata": {},
   "source": [
    "## Advanced Example - PDF with Custom Area\n",
    "- if tabula cannot find the pdf, you can provide the location of the table with a top/left/height/width set of coordinates\n",
    "- you can find these coordinates within Adobe with the Measure tool set to points (instead of inches)"
   ]
  },
  {
   "cell_type": "code",
   "execution_count": 36,
   "id": "e9ea1f68-35c5-46ec-9fb6-d8bc6f4a12ae",
   "metadata": {
    "tags": []
   },
   "outputs": [],
   "source": [
    "url = \"https://trreb.ca/files/market-stats/market-watch/mw2310.pdf\"\n",
    "response = requests.get(url, proxies=proxies)\n",
    "raw_pdf = response.content\n",
    "dfs = read_pdf(io.BytesIO(raw_pdf), pages=4, multiple_tables=True)"
   ]
  },
  {
   "cell_type": "code",
   "execution_count": 37,
   "id": "ead639dd-cabd-4453-b2f5-d07bd6a177d0",
   "metadata": {
    "tags": []
   },
   "outputs": [],
   "source": [
    "len(dfs)"
   ]
  },
  {
   "cell_type": "code",
   "execution_count": 41,
   "id": "35a08a8c-e34b-4cc7-9651-748bbd2bf415",
   "metadata": {
    "tags": []
   },
   "outputs": [],
   "source": [
    "dfs[0]\n",
    "# dfs[1]"
   ]
  },
  {
   "cell_type": "code",
   "execution_count": 61,
   "id": "97ea6b38-ec27-4a2c-bfae-4eae87b205f7",
   "metadata": {
    "tags": []
   },
   "outputs": [],
   "source": [
    "top = 76\n",
    "left = 10.32\n",
    "height = 577\n",
    "width = 780.32\n",
    "df = read_pdf(io.BytesIO(raw_pdf), pages=4, area=[top,left,height,width])"
   ]
  },
  {
   "cell_type": "code",
   "execution_count": 62,
   "id": "bed908ed-19f3-4d0a-bdfa-9808963f1ce8",
   "metadata": {
    "tags": []
   },
   "outputs": [],
   "source": [
    "df"
   ]
  },
  {
   "cell_type": "code",
   "execution_count": null,
   "id": "6a0dcfa2-457c-4467-b6a9-002fd2019f80",
   "metadata": {
    "tags": []
   },
   "outputs": [],
   "source": []
  },
  {
   "cell_type": "markdown",
   "id": "8a9e0ff0-9a16-4fdd-aeea-454c3834f4f2",
   "metadata": {},
   "source": [
    "## Using Stream\n",
    "- sometimes if the rows are unclear Tabula might do a poor job in finding the rows\n",
    "- can use `lattice=True` or `stream=True`\n",
    "- Lattice is used to parse tables that have demarcated lines between cells, while Stream is used to parse tables that have whitespaces between cells to simulate a table structure."
   ]
  },
  {
   "cell_type": "code",
   "execution_count": 74,
   "id": "53b33d03-1129-4251-b9d7-c91fce22af9b",
   "metadata": {
    "tags": []
   },
   "outputs": [],
   "source": [
    "#https://panynj.gov/airports/en/statistics-general-info.html\n",
    "url = 'https://panynj.gov/content/dam/airports/statistics/statistics-general-info/annual-atr/ATR_2022.pdf'"
   ]
  },
  {
   "cell_type": "code",
   "execution_count": 90,
   "id": "28b42878-807e-40ae-9578-59ade8939c0e",
   "metadata": {
    "tags": []
   },
   "outputs": [],
   "source": [
    "response = requests.get(url, proxies=proxies)\n",
    "raw_pdf = response.content\n",
    "df = read_pdf(io.BytesIO(raw_pdf), pages=23)"
   ]
  },
  {
   "cell_type": "code",
   "execution_count": 91,
   "id": "d88845c3-d502-436c-a558-3c2df31edc51",
   "metadata": {
    "tags": []
   },
   "outputs": [],
   "source": [
    "df"
   ]
  },
  {
   "cell_type": "code",
   "execution_count": 92,
   "id": "c15dfc77-e20e-4da9-9046-34d249c308a1",
   "metadata": {
    "tags": []
   },
   "outputs": [],
   "source": [
    "#Add stream argument\n",
    "df = read_pdf(io.BytesIO(raw_pdf), pages=23, stream=True)"
   ]
  },
  {
   "cell_type": "code",
   "execution_count": 94,
   "id": "738294a2-33c8-4428-98c9-dbe537b5b777",
   "metadata": {
    "tags": []
   },
   "outputs": [],
   "source": [
    "df"
   ]
  },
  {
   "cell_type": "code",
   "execution_count": 95,
   "id": "523ef49d-f6d5-4ff7-a59a-e0c26e23a15a",
   "metadata": {
    "tags": []
   },
   "outputs": [],
   "source": [
    "#need to break page into multiple tables\n",
    "dfs = read_pdf(io.BytesIO(raw_pdf), pages=23, stream=True, multiple_tables=True)\n",
    "len(dfs)"
   ]
  },
  {
   "cell_type": "code",
   "execution_count": 96,
   "id": "2956e25b-630c-4751-ba6f-a5ca5136226b",
   "metadata": {
    "tags": []
   },
   "outputs": [],
   "source": [
    "dfs[0]"
   ]
  },
  {
   "cell_type": "code",
   "execution_count": 97,
   "id": "d83e1f5c-0d80-4913-a0fb-931a0bb24491",
   "metadata": {
    "tags": []
   },
   "outputs": [],
   "source": [
    "dfs[1]"
   ]
  }
 ],
 "metadata": {
  "header": "# Id:          $Id: PDF_Scrape.ipynb,v 1.1 2023/11/08 22:23:58 bogdan.tudose Exp $\n# Copyright:   2023 J.P. Morgan Chase & Co. Incorporated.  All rights reserved.\n# Type:        research\n# Group:       AthenaAnalystTraining\n# Flags:       py3\n# Description: Jupyter notebook created by bogdan.tudose\n\n",
  "kernelspec": {
   "display_name": "Athena 3.7",
   "language": "python",
   "name": "athena_py3"
  },
  "language_info": {
   "codemirror_mode": {
    "name": "ipython",
    "version": 3
   },
   "file_extension": ".py",
   "mimetype": "text/x-python",
   "name": "python",
   "nbconvert_exporter": "python",
   "pygments_lexer": "ipython3",
   "version": "3.7.9"
  }
 },
 "nbformat": 4,
 "nbformat_minor": 5
}
