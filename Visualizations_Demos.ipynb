{
 "cells": [
  {
   "cell_type": "markdown",
   "id": "10008302-e4a7-4033-a62f-734ace12e16b",
   "metadata": {},
   "source": [
    "# ADAPT Pro - Topic 3 - Automation, Visualization and Best Practices"
   ]
  },
  {
   "cell_type": "markdown",
   "id": "a0395e2f-f51a-4627-b7d9-5788c2c5ba5b",
   "metadata": {},
   "source": [
    "# Advanced Visualizations and Dashboards\n",
    "This notebook showcases advanced applications of:\n",
    "- plotly package for interactive visualizations\n",
    "- perspective package for interacting with DataFrame tables\n",
    "- ipywidgets for creating interactive components for dashbaords\n"
   ]
  },
  {
   "cell_type": "markdown",
   "id": "ab01841f-2916-4106-9d29-ea00fffe9fbf",
   "metadata": {},
   "source": [
    "## Perspective Widget\n",
    "- `PerspectiveWidget` is a Jupyter plugin from the perspective package that offers functionality to interact with data sets such:\n",
    "    - dynamic filtering and sorting\n",
    "    - dynamic groupby (creating pivots/aggregations of data)\n",
    "    - creating interactive charts such as bar charts, line graphs, etc.\n",
    "    - exporting filtered data as CSV files"
   ]
  },
  {
   "cell_type": "code",
   "execution_count": 1,
   "id": "41f7c0b4-5489-41d4-ad9a-61658481e38f",
   "metadata": {
    "tags": []
   },
   "outputs": [],
   "source": [
    "import pandas as pd\n",
    "from perspective import PerspectiveWidget"
   ]
  },
  {
   "cell_type": "code",
   "execution_count": 2,
   "id": "c4a2ddc2-5030-456f-9aae-55794c8e6c2f",
   "metadata": {
    "tags": []
   },
   "outputs": [],
   "source": [
    "finData = pd.read_excel(\"ADAPT2021/ExData/Data Manipulation Worksheet.xlsx\", sheet_name=\"Financing Table Clean\")\n",
    "finData.head()"
   ]
  },
  {
   "cell_type": "code",
   "execution_count": 3,
   "id": "48067f0a-8522-4df1-980c-32382b0cad7f",
   "metadata": {
    "tags": []
   },
   "outputs": [],
   "source": [
    "PerspectiveWidget(finData)"
   ]
  },
  {
   "cell_type": "markdown",
   "id": "3dcd2772-dbdf-4696-9a4f-22e40bb0f26b",
   "metadata": {},
   "source": [
    "## Visualizations with Plotly"
   ]
  },
  {
   "cell_type": "code",
   "execution_count": 4,
   "id": "ee8bac85-0613-48d7-858b-55047394bd7b",
   "metadata": {
    "tags": []
   },
   "outputs": [],
   "source": [
    "import plotly.express as px"
   ]
  },
  {
   "cell_type": "markdown",
   "id": "7c204bd4-20ff-4b9a-87a8-38fe9c6350a7",
   "metadata": {},
   "source": [
    "### Simple visualizations recap"
   ]
  },
  {
   "cell_type": "code",
   "execution_count": 5,
   "id": "80810c2f-9e02-4e70-b0ce-7ef09a7c174d",
   "metadata": {
    "tags": []
   },
   "outputs": [],
   "source": [
    "df = pd.read_csv('ADAPT2021/StockData/AAPL.csv', parse_dates=['Date'], index_col=['Date'])"
   ]
  },
  {
   "cell_type": "code",
   "execution_count": 19,
   "id": "1d2c6865-ea8d-466d-aa55-4060e1b431fe",
   "metadata": {
    "tags": []
   },
   "outputs": [],
   "source": [
    "fig = px.line(df, y=\"Close\", title='Apple')\n",
    "fig.show()"
   ]
  },
  {
   "cell_type": "code",
   "execution_count": 12,
   "id": "64b500f0-d963-493f-bcac-6b7139377a67",
   "metadata": {
    "tags": []
   },
   "outputs": [],
   "source": [
    "figBar = px.bar(finData, x='INDUSTRY', y='SIZE', color='TYPE', hover_name=\"ISSUER\",\n",
    "                title=\"Total Deal Value by Industry\",\n",
    "                width=900,height=600)\n",
    "figBar.show()"
   ]
  },
  {
   "cell_type": "markdown",
   "id": "a797d0e4-2e55-42f1-a7ec-29b04759bf21",
   "metadata": {},
   "source": [
    "### Advanced Visualizations - Formatting Settings"
   ]
  },
  {
   "cell_type": "markdown",
   "id": "eb45d3af-00ab-459d-aa10-cead76b0ac23",
   "metadata": {},
   "source": [
    "Extra arguments that are useful to add to the plotting formulas:\n",
    "- facet_col - break the chart into subplots based on a category into multiple columns\n",
    "- facet_row - break the chart into subplots based on a category into multiple rows\n",
    "- facet_col_wrap - # of columns to show in a grid if too many columns to display\n",
    "- width, height - to change the sizing of graph\n",
    "- color_discrete_sequence - colors to use in the graph for different series, can provide a list of English words (e.g. `['darkblue','lightblue']`)\n",
    "- color_discrete_map - same as above but can provide a mapping with a dictionary of the categories (e.g. `{'JPM':\"darkblue\", 'GS':\"lightblue\"}`)"
   ]
  },
  {
   "cell_type": "markdown",
   "id": "80821c4f-01d7-4c2f-aba4-c94e940cf913",
   "metadata": {},
   "source": [
    "#### Facet_Col example - Side by Side Comparison of Types of Deals by Sector"
   ]
  },
  {
   "cell_type": "code",
   "execution_count": 33,
   "id": "fde7c5b7-9aa0-4548-a28e-8dee49d20c49",
   "metadata": {
    "tags": []
   },
   "outputs": [],
   "source": [
    "finData['TYPE'].unique()"
   ]
  },
  {
   "cell_type": "code",
   "execution_count": 36,
   "id": "7dad06ec-374d-4b5f-8a99-77fd83bafaf1",
   "metadata": {
    "tags": []
   },
   "outputs": [],
   "source": [
    "debtFilters = ['Bank Notes','Sr Notes','CD Notes', 'Global Notes','Notes','Bonds']\n",
    "equityFilters = ['Initial Public Offering','Equity Follow-On Offering','Preferred Securities']\n",
    "debtDeals = finData[finData['TYPE'].isin(debtFilters)]\n",
    "equityDeals = finData[finData['TYPE'].isin(equityFilters)]"
   ]
  },
  {
   "cell_type": "code",
   "execution_count": 42,
   "id": "eae23ae9-eb25-4cd1-a382-a9e8415436e2",
   "metadata": {
    "tags": []
   },
   "outputs": [],
   "source": [
    "figDebt = px.bar(debtDeals, x='INDUSTRY', y='SIZE', facet_col='TYPE', facet_col_wrap=3,\n",
    "                color='INDUSTRY', hover_name=\"ISSUER\",\n",
    "                title=\" Side by Side Comparison of Types of Deals by Sector\",\n",
    "                width=900,height=600)\n",
    "figDebt.show()"
   ]
  },
  {
   "cell_type": "code",
   "execution_count": 43,
   "id": "d22b23f5-fc59-4df0-a61f-bc7eaf71a5b6",
   "metadata": {
    "tags": []
   },
   "outputs": [],
   "source": [
    "figEquity = px.bar(equityDeals, x='INDUSTRY', y='SIZE', facet_col='TYPE', facet_col_wrap=3,\n",
    "                color='INDUSTRY', hover_name=\"ISSUER\",\n",
    "                title=\" Side by Side Comparison of Types of Deals by Sector\",\n",
    "                width=900,height=500)\n",
    "figEquity.show()"
   ]
  },
  {
   "cell_type": "markdown",
   "id": "53edac0b-cf23-4bdd-9e1c-1784bde58094",
   "metadata": {},
   "source": [
    "#### Facet_Col example - Side by Side Comparison of Lead Underwriters"
   ]
  },
  {
   "cell_type": "code",
   "execution_count": 45,
   "id": "086ac1e9-04c2-487d-b85c-503a67d420f9",
   "metadata": {
    "tags": []
   },
   "outputs": [],
   "source": [
    "banks = ['J.P. Morgan','Goldman Sachs']\n",
    "filteredData = finData[finData['LEAD UNDERWRITER'].isin(banks)]"
   ]
  },
  {
   "cell_type": "code",
   "execution_count": 46,
   "id": "46c8543c-d526-4df2-bb46-301859ce8919",
   "metadata": {
    "tags": []
   },
   "outputs": [],
   "source": [
    "figBanks = px.bar(filteredData, x='INDUSTRY', y='SIZE', facet_col='LEAD UNDERWRITER', color='TYPE', hover_name=\"ISSUER\",\n",
    "                title=\"Total Deal Value by Industry and Type\",\n",
    "                width=900,height=600)\n",
    "figBanks.show()"
   ]
  },
  {
   "cell_type": "markdown",
   "id": "c4449306-2646-43fb-b9df-06c426a298ea",
   "metadata": {},
   "source": [
    "#### Facet_Row example - Time Series of Different Stocks"
   ]
  },
  {
   "cell_type": "code",
   "execution_count": 47,
   "id": "a40dd901-0ad5-4a00-8ad1-a47aeb33b533",
   "metadata": {
    "tags": []
   },
   "outputs": [],
   "source": [
    "tickers = ['JPM','GS']\n",
    "tables = []\n",
    "for ticker in tickers:\n",
    "    temp_df = pd.read_csv('ADAPT2021/StockData/'+ticker+'.csv', parse_dates=['Date'], index_col=['Date'])\n",
    "    temp_df['Ticker'] = ticker\n",
    "    tables.append(temp_df)\n",
    "\n",
    "tickerData = pd.concat(tables)"
   ]
  },
  {
   "cell_type": "code",
   "execution_count": 55,
   "id": "a7d8603b-d502-45be-861b-a735ae11215a",
   "metadata": {
    "tags": []
   },
   "outputs": [],
   "source": [
    "fig = px.line(tickerData, y=\"Close\", color='Ticker', title='Ticker Share Prices',\n",
    "             color_discrete_map={'JPM':\"darkblue\", 'GS':\"lightblue\"})\n",
    "fig.show()\n",
    "\n",
    "#can also use a dictionary: color_discrete_map={'JPM':\"darkblue\", 'GS':\"lightblue\"}\n",
    "#or list: color_discrete_sequence=[\"darkblue\", \"lightblue\"]"
   ]
  },
  {
   "cell_type": "code",
   "execution_count": 49,
   "id": "222b32dc-1336-4a50-ad86-300465e5e8a9",
   "metadata": {
    "tags": []
   },
   "outputs": [],
   "source": [
    "fig = px.line(tickerData, y=\"Close\", facet_row='Ticker', title='Ticker Share Prices',height=600)\n",
    "fig.show()"
   ]
  },
  {
   "cell_type": "markdown",
   "id": "e76f8dac-a919-43da-ab2a-39914ea70cc2",
   "metadata": {},
   "source": [
    "### Advanced Visualizations - Trendlines\n",
    "- one of the advanced features of plotly is to add trendlines to scatter plots such as:\n",
    "    - simple and exponential moving averages (without having to manually calculate with `.rolling()` in pandas)\n",
    "    - regression lines (e.g. OLS without having to run statsmodels package)\n",
    "- additional examples: https://plotly.com/python/linear-fits/"
   ]
  },
  {
   "cell_type": "markdown",
   "id": "06a87ff9-6da8-4062-afcb-9160268894a3",
   "metadata": {},
   "source": [
    "#### Linear Regression with OLS"
   ]
  },
  {
   "cell_type": "code",
   "execution_count": 119,
   "id": "3c4c0ab7-1b00-49ab-a400-05298e47018e",
   "metadata": {
    "tags": []
   },
   "outputs": [],
   "source": [
    "sp500 = pd.read_csv('ADAPT2021/StockData/SP500.csv', parse_dates=['Date'], index_col=['Date'])\n",
    "aapl = pd.read_csv('ADAPT2021/StockData/AAPL.csv', parse_dates=['Date'], index_col=['Date'])\n",
    "sp500['Returns'] = sp500['Close'].pct_change()\n",
    "aapl['Returns'] = aapl['Close'].pct_change()\n",
    "olsData = sp500.merge(aapl, how='inner',on=['Date'], suffixes=('_SP','_AAPL'))\n",
    "olsData = olsData.dropna()"
   ]
  },
  {
   "cell_type": "code",
   "execution_count": 143,
   "id": "6f754d8d-65c5-49ad-ab34-13460d9e285a",
   "metadata": {
    "tags": []
   },
   "outputs": [],
   "source": [
    "figOLS = px.scatter(olsData, x=\"Returns_SP\", y=\"Returns_AAPL\", trendline=\"ols\", trendline_color_override=\"red\")\n",
    "figOLS.show()"
   ]
  },
  {
   "cell_type": "markdown",
   "id": "7f595136-4673-4152-b320-13b8cf18e110",
   "metadata": {},
   "source": [
    "OLS results can also be extracted directly from the grapy"
   ]
  },
  {
   "cell_type": "code",
   "execution_count": 77,
   "id": "6ffd4406-17a5-4768-b28c-73d6094f5675",
   "metadata": {
    "tags": []
   },
   "outputs": [],
   "source": [
    "results = px.get_trendline_results(fig)\n",
    "print(results)"
   ]
  },
  {
   "cell_type": "code",
   "execution_count": 153,
   "id": "b54f70a1-1d41-4d6c-a373-740f20857766",
   "metadata": {
    "tags": []
   },
   "outputs": [],
   "source": [
    "results.px_fit_results.iloc[0].summary()"
   ]
  },
  {
   "cell_type": "markdown",
   "id": "77200266-46dd-4e7d-b231-7760a01644bb",
   "metadata": {},
   "source": [
    "#### Moving Averages"
   ]
  },
  {
   "cell_type": "code",
   "execution_count": 56,
   "id": "89f2f0b1-0d87-4066-b45a-96ac23d5e0a2",
   "metadata": {
    "tags": []
   },
   "outputs": [],
   "source": [
    "nke = pd.read_csv('ADAPT2021/StockData/NKE.csv', parse_dates=['Date'], index_col=['Date'])"
   ]
  },
  {
   "cell_type": "code",
   "execution_count": 65,
   "id": "0c74d4f9-da2f-4d7e-9442-d9a71369bbe5",
   "metadata": {
    "tags": []
   },
   "outputs": [],
   "source": [
    "fig = px.scatter(nke, y=\"Close\", trendline=\"rolling\", trendline_options=dict(window=250),\n",
    "                title=\"Nike 250-day moving average\")\n",
    "fig.show()"
   ]
  },
  {
   "cell_type": "markdown",
   "id": "c1058fe3-2459-48cc-a4e6-5feaf78f52f3",
   "metadata": {},
   "source": [
    "Can also change the function used and color settings with `trendline_options` and `trendline_color_override`"
   ]
  },
  {
   "cell_type": "code",
   "execution_count": 71,
   "id": "08378e36-ac41-46a6-ae29-be349a0ed1c9",
   "metadata": {
    "tags": []
   },
   "outputs": [],
   "source": [
    "fig = px.scatter(nke, y=\"Close\", trendline=\"expanding\", trendline_options=dict(function=\"max\"),\n",
    "                title=\"Expanding Maximum\", trendline_color_override=\"red\")\n",
    "fig.show()"
   ]
  },
  {
   "cell_type": "markdown",
   "id": "82d36e6b-d319-4d2c-b118-c4632d407fff",
   "metadata": {},
   "source": [
    "### Advanced Visualizations - Animations\n",
    "- can show changes over time with `animation_frame=Category`, where category could be a column that keeps track of year, month, etc.\n",
    "- more examples: https://plotly.com/python/animations/"
   ]
  },
  {
   "cell_type": "code",
   "execution_count": 80,
   "id": "7bb31836-1fc6-4459-87fc-223a143ded65",
   "metadata": {
    "tags": []
   },
   "outputs": [],
   "source": [
    "data['Year'] = data.index.year"
   ]
  },
  {
   "cell_type": "code",
   "execution_count": 84,
   "id": "52760992-8fba-4a0e-b88a-5e3c9f74d9ff",
   "metadata": {
    "tags": []
   },
   "outputs": [],
   "source": [
    "px.scatter(data, x=\"Returns_SP\", y=\"Returns_AAPL\", animation_frame=\"Year\",\n",
    "           trendline=\"ols\", trendline_color_override=\"red\",\n",
    "           height=600)"
   ]
  },
  {
   "cell_type": "markdown",
   "id": "bf02212b-8f30-4750-ad3f-88458be1eb16",
   "metadata": {},
   "source": [
    "### Advanced Visualizations - Adding Traces and Annotations\n",
    "- annotations and additional series can be added to a simple plotly express figure using:\n",
    "    - `fig.add_shape()` - for custom shapes\n",
    "    - `fig.add_vline()` or `fig.add_hline()` - for a custom vertical or horizontal line on chart\n",
    "    - `fig.add_annotation()` - for custom text\n",
    "- more examples: \n",
    "    - Custom shapes: https://plotly.com/python/horizontal-vertical-shapes/\n",
    "    - Custom annotations: https://plotly.com/python/text-and-annotations/"
   ]
  },
  {
   "cell_type": "code",
   "execution_count": 87,
   "id": "5d6c3242-36c4-45cb-a1e7-4c1acc2e6a34",
   "metadata": {
    "tags": []
   },
   "outputs": [],
   "source": [
    "maxPrice = aapl['Close'].max()\n",
    "minPrice = aapl['Close'].min()\n",
    "avgPrice = aapl['Close'].mean()"
   ]
  },
  {
   "cell_type": "code",
   "execution_count": 116,
   "id": "482322f3-e32e-4988-b571-6b65665eba3a",
   "metadata": {
    "tags": []
   },
   "outputs": [],
   "source": [
    "fig = px.line(aapl, y='Close', title='Apple Share Price', height=500)\n",
    "\n",
    "#adding horiztonal dotted lines for max and min\n",
    "fig.add_hline(y=minPrice, line_width=3, line_dash=\"dot\", line_color=\"red\")\n",
    "\n",
    "fig.add_hline(y=maxPrice, annotation_text=\"Max Price: ${:.2f}\".format(maxPrice),\n",
    "              annotation_position=\"top right\",\n",
    "             line_width=3, line_dash=\"dash\", line_color=\"green\")\n",
    "\n",
    "#custom formatting of annotations\n",
    "fig.update_annotations(font=dict(family=\"sans serif\", size=18, color=\"green\"))\n",
    "fig.add_annotation(x=aapl.index.min(), y=minPrice,text=\"Min Price: ${:.2f}\".format(minPrice),\n",
    "                   arrowhead=1, showarrow=True,\n",
    "                  font=dict(family=\"sans serif\", size=18, color=\"red\"))\n",
    "\n",
    "#Vertical shaded region\n",
    "fig.add_vrect(x0=\"2015-07-20\", x1=\"2016-2-11\", \n",
    "              annotation_text=\"Decline\", annotation_position=\"top left\",\n",
    "              fillcolor=\"red\", opacity=0.25, line_width=0)\n",
    "\n",
    "fig.show()"
   ]
  },
  {
   "cell_type": "markdown",
   "id": "4acdadac-a3ba-4015-9ff4-3c21ccd41ea8",
   "metadata": {},
   "source": [
    "## Multiple Outputs with Plotly\n",
    "- instead of rendering the plotly express graphs inside a Jupyter file, they can be exported as stand-alone HTML files\n",
    "- multiple figure objects along with text and tables can be added to the exported HTML file"
   ]
  },
  {
   "cell_type": "code",
   "execution_count": 118,
   "id": "cc9afbda-a706-4aea-8c61-84b305f08a2e",
   "metadata": {
    "tags": []
   },
   "outputs": [],
   "source": [
    "import plotly.graph_objects as go"
   ]
  },
  {
   "cell_type": "code",
   "execution_count": 156,
   "id": "cad9b38a-dc2a-4907-bd9e-91abd6aa2977",
   "metadata": {
    "tags": []
   },
   "outputs": [],
   "source": [
    "#Outputs\n",
    "summaryOLS = results.px_fit_results.iloc[0].summary()\n",
    "# summaryOLS"
   ]
  },
  {
   "cell_type": "code",
   "execution_count": 166,
   "id": "a5929eb2-4c4e-4418-9456-47d0437b697b",
   "metadata": {
    "tags": []
   },
   "outputs": [],
   "source": [
    "#Table output\n",
    "olsData['Date'] = olsData.index.date \n",
    "outputData = olsData[['Date','Close_SP','Close_AAPL','Returns_SP','Returns_AAPL']]\n",
    "outputData.head()"
   ]
  },
  {
   "cell_type": "code",
   "execution_count": 169,
   "id": "eec7593c-fdb0-4bcb-ad29-0a67789be0cc",
   "metadata": {
    "tags": []
   },
   "outputs": [],
   "source": [
    "figT = go.Figure(data=[go.Table(\n",
    "                        header=dict(\n",
    "                            values=list(outputData.columns),\n",
    "                            fill_color='darkblue',\n",
    "                            font=dict(size=15, color='white'),\n",
    "                            align=\"right\"\n",
    "                        ),\n",
    "                        cells=dict(\n",
    "                            values=[outputData[k].tolist() for k in outputData.columns],\n",
    "                            align = \"right\",\n",
    "                            format=['None','$,.2f','$,.2f','.2%','.2%']\n",
    "                        )\n",
    "                    )])\n",
    "# figT"
   ]
  },
  {
   "cell_type": "code",
   "execution_count": 148,
   "id": "de863c90-8e1b-4955-baff-246c5b755920",
   "metadata": {
    "tags": []
   },
   "outputs": [],
   "source": [
    "# figOLS #OLS Chart\n",
    "figSP500 = px.line(sp500, y='Close',title='S&P 500')\n",
    "figAAPL = px.line(aapl, y='Close',title='Apple Inc')\n",
    "# figSP500\n",
    "# figAAPL"
   ]
  },
  {
   "cell_type": "markdown",
   "id": "94337ef1-7d71-49fb-a1db-73fc3169cb2e",
   "metadata": {},
   "source": [
    "#### Exporting HTML File"
   ]
  },
  {
   "cell_type": "code",
   "execution_count": 177,
   "id": "1181c5dc-889b-4151-b2bd-5bc30ed67b19",
   "metadata": {
    "tags": []
   },
   "outputs": [],
   "source": [
    "text = '''\n",
    "<h1> Demo of Plotly Export to HTML</h1>\n",
    "<p>Multiple figures and components can be exported at the same time:</p>\n",
    "<ul>\n",
    "<li>plotly express figures</li>\n",
    "<li>custom HTML code (for text and tables)</li>\n",
    "<li>pandas DataFrame tables converted to HTML with .to_html()</li>\n",
    "<li>more complex formatted tables with plotly</li>\n",
    "'''"
   ]
  },
  {
   "cell_type": "code",
   "execution_count": 178,
   "id": "c3824a1d-298b-4ca9-8d52-8f5bd266ca81",
   "metadata": {
    "tags": []
   },
   "outputs": [],
   "source": [
    "figures = [figOLS, figT, figAAPL, figSP500]\n",
    "with open('plotlyDemo.html','a') as f:\n",
    "    f.write(text)\n",
    "    f.write(summaryOLS.as_html())\n",
    "    for output in figures:        \n",
    "        f.write(output.to_html(full_html=False, include_plotlyjs='cdn'))\n",
    "    f.write(outputData.head().to_html())"
   ]
  }
 ],
 "metadata": {
  "header": "# Id:          $Id: $\n# Copyright:   2023 J.P. Morgan Chase & Co. Incorporated.  All rights reserved.\n# Type:        research\n# Group:       AthenaAnalystTraining\n# Flags:       py3\n# Description: Jupyter notebook created by bogdan.tudose\n\n",
  "kernelspec": {
   "display_name": "Athena 3.7",
   "language": "python",
   "name": "athena_py3"
  },
  "language_info": {
   "codemirror_mode": {
    "name": "ipython",
    "version": 3
   },
   "file_extension": ".py",
   "mimetype": "text/x-python",
   "name": "python",
   "nbconvert_exporter": "python",
   "pygments_lexer": "ipython3",
   "version": "3.7.9"
  }
 },
 "nbformat": 4,
 "nbformat_minor": 5
}